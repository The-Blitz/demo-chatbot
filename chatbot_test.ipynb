{
 "cells": [
  {
   "cell_type": "code",
   "execution_count": null,
   "metadata": {},
   "outputs": [],
   "source": [
    "#ipykernel my be necessary to be installed in the virtual env\n",
    "#I am running this in the virtual enviroment using the requirments.txt"
   ]
  },
  {
   "cell_type": "code",
   "execution_count": null,
   "metadata": {},
   "outputs": [],
   "source": [
    "dockerfile_path = \"./Dockerfile\""
   ]
  },
  {
   "cell_type": "code",
   "execution_count": null,
   "metadata": {},
   "outputs": [],
   "source": [
    "#Run this just in case to clean everything\n",
    "#!docker builder prune --force"
   ]
  },
  {
   "cell_type": "code",
   "execution_count": null,
   "metadata": {},
   "outputs": [],
   "source": [
    "!docker build --no-cache -t chatbot-image -f {dockerfile_path} ."
   ]
  },
  {
   "cell_type": "code",
   "execution_count": null,
   "metadata": {},
   "outputs": [
    {
     "name": "stdout",
     "output_type": "stream",
     "text": [
      "REPOSITORY      TAG       IMAGE ID       CREATED          SIZE\n",
      "chatbot-image   latest    1ac398528c48   17 seconds ago   4.75GB\n"
     ]
    }
   ],
   "source": [
    "!docker images --filter \"reference=chatbot-image\""
   ]
  },
  {
   "cell_type": "code",
   "execution_count": null,
   "metadata": {},
   "outputs": [
    {
     "name": "stdout",
     "output_type": "stream",
     "text": [
      "78fb3c476f757216a915b1c8c8710dbe022f25005f152dc5cf2dccaf52f2b977\n"
     ]
    }
   ],
   "source": [
    "!docker run -d --name chatbot-container -p 8000:8000 chatbot-image"
   ]
  },
  {
   "cell_type": "code",
   "execution_count": null,
   "metadata": {},
   "outputs": [
    {
     "name": "stdout",
     "output_type": "stream",
     "text": [
      "CONTAINER ID   IMAGE           COMMAND                  CREATED         STATUS                  PORTS                                       NAMES\n",
      "78fb3c476f75   chatbot-image   \"uvicorn api.main:ap…\"   3 seconds ago   Up Less than a second   0.0.0.0:8000->8000/tcp, :::8000->8000/tcp   chatbot-container\n"
     ]
    }
   ],
   "source": [
    "!docker ps -a --filter \"name=chatbot-container\""
   ]
  },
  {
   "cell_type": "code",
   "execution_count": null,
   "metadata": {},
   "outputs": [
    {
     "name": "stdout",
     "output_type": "stream",
     "text": [
      "{'message': 'It Works! (v1.0)'}\n"
     ]
    }
   ],
   "source": [
    "import requests\n",
    "\n",
    "# Define the local API endpoint\n",
    "url = \"http://localhost:8000\"\n",
    "\n",
    "response = requests.get(url)\n",
    "print(response.json())"
   ]
  },
  {
   "cell_type": "code",
   "execution_count": null,
   "metadata": {},
   "outputs": [],
   "source": [
    "dialog = [\n",
    "    {\"text\": \"Hello there, my name is Rodrigo\"},\n",
    "    {\"text\": \"How are you doing?\"},\n",
    "    {\"text\": \"That's great. Let's go out later\"},\n",
    "    {\"text\": \"Thanks. See you.\"}\n",
    "]"
   ]
  },
  {
   "cell_type": "code",
   "execution_count": null,
   "metadata": {},
   "outputs": [
    {
     "name": "stdout",
     "output_type": "stream",
     "text": [
      "User: Hello there, my name is Rodrigo\n",
      "Chatbot: Hello Rodrigo\n",
      "\n",
      "User: How are you doing?\n",
      "Chatbot: I'm doing well, how are you?\n",
      "\n",
      "User: That's great. Let's go out later\n",
      "Chatbot: Sure, I'll be there.\n",
      "\n",
      "User: Thanks. See you.\n",
      "Chatbot: See you\n",
      "\n"
     ]
    }
   ],
   "source": [
    "url = \"http://localhost:8000/api/chatbot/talk\"\n",
    "\n",
    "for d in dialog:\n",
    "    response = requests.post(url, json=d)\n",
    "    if response.status_code == 200:\n",
    "        print(f\"User: {d['text']}\")\n",
    "        print(f\"Chatbot: {response.json()['text']}\\n\")\n",
    "    else:\n",
    "        print(f\"Error: {response.status_code}\")"
   ]
  },
  {
   "cell_type": "code",
   "execution_count": null,
   "metadata": {},
   "outputs": [
    {
     "name": "stdout",
     "output_type": "stream",
     "text": [
      "chatbot-container\n"
     ]
    }
   ],
   "source": [
    "!docker stop chatbot-container"
   ]
  },
  {
   "cell_type": "code",
   "execution_count": null,
   "metadata": {},
   "outputs": [
    {
     "name": "stdout",
     "output_type": "stream",
     "text": [
      "chatbot-container\n"
     ]
    }
   ],
   "source": [
    "!docker rm chatbot-container"
   ]
  },
  {
   "cell_type": "code",
   "execution_count": null,
   "metadata": {},
   "outputs": [
    {
     "name": "stdout",
     "output_type": "stream",
     "text": [
      "Untagged: chatbot-image:latest\n",
      "Deleted: sha256:1ac398528c48dda19ed7a5fc27f4d2a8660a9eba92d23cbd08e5e8a0beb13ee8\n"
     ]
    }
   ],
   "source": [
    "!docker rmi chatbot-image"
   ]
  },
  {
   "cell_type": "code",
   "execution_count": null,
   "metadata": {},
   "outputs": [
    {
     "name": "stdout",
     "output_type": "stream",
     "text": [
      "CONTAINER ID   IMAGE     COMMAND   CREATED   STATUS    PORTS     NAMES\n"
     ]
    }
   ],
   "source": [
    "!docker ps -a --filter \"name=chatbot-container\""
   ]
  },
  {
   "cell_type": "code",
   "execution_count": null,
   "metadata": {},
   "outputs": [
    {
     "name": "stdout",
     "output_type": "stream",
     "text": [
      "REPOSITORY   TAG       IMAGE ID   CREATED   SIZE\n"
     ]
    }
   ],
   "source": [
    "!docker images --filter \"reference=chatbot-image\""
   ]
  }
 ],
 "metadata": {
  "kernelspec": {
   "display_name": ".venv",
   "language": "python",
   "name": "python3"
  },
  "language_info": {
   "codemirror_mode": {
    "name": "ipython",
    "version": 3
   },
   "file_extension": ".py",
   "mimetype": "text/x-python",
   "name": "python",
   "nbconvert_exporter": "python",
   "pygments_lexer": "ipython3",
   "version": "3.9.6"
  }
 },
 "nbformat": 4,
 "nbformat_minor": 2
}
